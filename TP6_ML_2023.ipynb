{
  "nbformat": 4,
  "nbformat_minor": 0,
  "metadata": {
    "colab": {
      "provenance": []
    },
    "kernelspec": {
      "name": "python3",
      "display_name": "Python 3"
    },
    "language_info": {
      "name": "python"
    }
  },
  "cells": [
    {
      "cell_type": "markdown",
      "source": [
        "# Deep Learning in Python with Keras Step-by-Step\n",
        "\n",
        "**Keras** is a powerful and easy-to-use free open source Python library for developing and evaluating deep learning models.\n",
        "\n",
        "It is part of the `TensorFlow` library and allows you to define and train neural network models in just a few lines of code.\n",
        "\n",
        "In this lab, you will discover how to create your first deep learning neural network model in Python using **Keras**."
      ],
      "metadata": {
        "id": "z2bxe2_ktI1h"
      }
    },
    {
      "cell_type": "markdown",
      "source": [
        "# 1. Load Data\n",
        "\n",
        "The first step is to define the functions and classes you intend to use in this lab.\n",
        "\n",
        "You will use the `NumPy` library to load your dataset and two classes from the Keras library to define your model.\n",
        "\n",
        "The imports required are listed below."
      ],
      "metadata": {
        "id": "6KptIjYrt4he"
      }
    },
    {
      "cell_type": "code",
      "execution_count": null,
      "metadata": {
        "id": "mApyXOFVtH7u"
      },
      "outputs": [],
      "source": [
        "# first neural network with keras\n",
        "from numpy import loadtxt\n",
        "from tensorflow.keras.models import Sequential\n",
        "from tensorflow.keras.layers import Dense"
      ]
    },
    {
      "cell_type": "markdown",
      "source": [
        "This `Python` code imports the required libraries and modules to build a simple deep neural network using the `Keras` API of `TensorFlow`.\n",
        "\n",
        "The first line imports the `loadtxt` function from the `numpy` library, which is used to load data from a text file into a `NumPy` array. This is a common data loading function used in machine learning and deep learning applications.\n",
        "\n",
        "The second and third lines import the `Sequential` model class and `Dense` layer class from the `tensorflow.keras.layers` module. These classes are used to define and build the neural network architecture.\n",
        "\n",
        "The `Sequential` model class is used to create a linear stack of layers. This means that each layer in the network feeds into the next layer, with no branching or merging of the data flow. This is a simple but powerful architecture that can be used for a wide range of problems.\n",
        "\n",
        "The `Dense` layer class is used to create a fully connected layer in the network. This means that each neuron in the layer is connected to every neuron in the previous layer, and every neuron in the next layer. The `Dense` layer class is one of the most commonly used layer types in deep learning, as it is flexible and can be used to create a wide range of network architectures."
      ],
      "metadata": {
        "id": "8RpMkIUXvTUE"
      }
    },
    {
      "cell_type": "markdown",
      "source": [
        "In this `Keras` lab, you will use the Pima Indians onset of diabetes dataset. This is a standard machine learning dataset from the UCI Machine Learning repository. It describes patient medical record data for Pima Indians and whether they had an onset of diabetes within five years.\n",
        "\n",
        "As such, it is a binary classification problem (onset of diabetes as 1 or not as 0). All of the input variables that describe each patient are numerical. This makes it easy to use directly with neural networks that expect numerical input and output values and is an ideal choice for our first neural network in `Keras`."
      ],
      "metadata": {
        "id": "E5DkKCcNw-FG"
      }
    },
    {
      "cell_type": "code",
      "source": [
        "# load the dataset\n",
        "dataset = loadtxt('https://raw.githubusercontent.com/jbrownlee/Datasets/master/pima-indians-diabetes.data.csv', delimiter=',')\n",
        "# split into input (X) and output (y) variables\n",
        "X = dataset[:,0:8]\n",
        "y = dataset[:,8]"
      ],
      "metadata": {
        "id": "ukVSZAgNx-Tg"
      },
      "execution_count": null,
      "outputs": []
    },
    {
      "cell_type": "markdown",
      "source": [
        "This code loads a dataset and then splits it into two arrays, `X` and `y`.\n",
        "\n",
        "First, the `loadtxt` function from `NumPy` is used to load a CSV file containing data on Pima Indian women and their diabetes status. The dataset is loaded from a URL, specified as a string in the function call.\n",
        "\n",
        "Next, the loaded data is split into input (`X`) and output (`y`) variables. The input variable `X` contains all the columns of the dataset except for the last column, which contains the binary labels indicating whether each woman has diabetes (`1`) or not (`0`). The output variable `y` contains only the last column of the dataset, which contains the binary labels for diabetes status.\n",
        "\n",
        "The `:` notation is used to select all rows of the dataset, and the `0:8` notation is used to select only the first 8 columns of the dataset, which contain the predictor variables. The `[:,8]` notation is used to select all rows of the dataset and only the last column, which contains the binary labels for diabetes status."
      ],
      "metadata": {
        "id": "4o2_F2ovy0Xq"
      }
    },
    {
      "cell_type": "markdown",
      "source": [
        "The variables can be summarized as follows:\n",
        "\n",
        "Input Variables (`X`):\n",
        "\n",
        "* Number of times pregnant\n",
        "* Plasma glucose concentration at 2 hours in an oral glucose tolerance test\n",
        "* Diastolic blood pressure (mm Hg)\n",
        "* Triceps skin fold thickness (mm)\n",
        "* 2-hour serum insulin (mu U/ml)\n",
        "* Body mass index (weight in kg/(height in m)^2)\n",
        "* Diabetes pedigree function\n",
        "* Age (years)\n",
        "\n",
        "Output Variables (y):\n",
        "* Class variable (0 or 1)"
      ],
      "metadata": {
        "id": "zfhnt2IAzeTQ"
      }
    },
    {
      "cell_type": "markdown",
      "source": [
        "# 2. Define Keras Model\n",
        "\n",
        "Models in `Keras` are defined as a sequence of layers.\n",
        "\n",
        "We create a `Sequential` model and add layers one at a time until we are happy with our network architecture.\n",
        "\n",
        "The first thing to get right is to ensure the input layer has the correct number of input features. This can be specified when creating the first layer with the `input_shape` argument and setting it to `(8,)` for presenting the eight input variables as a vector.\n",
        "\n",
        "How do we know the number of layers and their types?\n",
        "\n",
        "This is a tricky question. There are heuristics that you can use, and often the best network structure is found through a process of trial and error experimentation. Generally, you need a network large enough to capture the structure of the problem.\n",
        "\n",
        "In this example, let’s use a **fully-connected network** structure with **three** layers.\n",
        "\n",
        "Fully connected layers are defined using the `Dense` class. You can specify the number of neurons or nodes in the layer as the first argument and the activation function using the activation argument.\n",
        "\n",
        "Also, you will use the **rectified linear unit** activation function referred to as `ReLU` on the first two layers and the `Sigmoid` function in the output layer.\n",
        "\n",
        "It used to be the case that `Sigmoid` and `Tanh` activation functions were preferred for all layers. These days, better performance is achieved using the `ReLU` activation function. Using a `sigmoid` on the output layer ensures your network output is between 0 and 1 and is easy to map to either a probability of class 1 or snap to a hard classification of either class with a default threshold of 0.5.\n",
        "\n",
        "You can piece it all together by adding each layer:\n",
        "\n",
        "* The model expects rows of data with 8 variables.\n",
        "* The first hidden layer has 12 nodes and uses the `relu` activation function.\n",
        "* The second hidden layer has 8 nodes and uses the `relu` activation function.\n",
        "* The output layer has one node and uses the `sigmoid` activation function."
      ],
      "metadata": {
        "id": "TE0PJDx-z3nV"
      }
    },
    {
      "cell_type": "code",
      "source": [
        "# define the keras model\n",
        "model = Sequential()\n",
        "model.add(Dense(12, input_shape=(8,), activation='relu'))\n",
        "model.add(Dense(8, activation='relu'))\n",
        "model.add(Dense(1, activation='sigmoid'))"
      ],
      "metadata": {
        "id": "hZRxHNalzyaS"
      },
      "execution_count": null,
      "outputs": []
    },
    {
      "cell_type": "markdown",
      "source": [
        "**Note**:  The most confusing thing here is that the shape of the input to the model is defined as an argument on the first hidden layer. This means that the line of code that adds the first Dense layer is doing two things, defining the input or visible layer and the first hidden layer."
      ],
      "metadata": {
        "id": "fR-k9bkb1TJR"
      }
    },
    {
      "cell_type": "markdown",
      "source": [
        "# 3. Compile Keras Model\n",
        "\n",
        "Now that the model is defined, you can compile it.\n",
        "\n",
        "Compiling the model uses the efficient numerical libraries under the covers (the so-called backend) such as `Theano` or `TensorFlow`. The backend automatically chooses the best way to represent the network for training and making predictions to run on your hardware, such as CPU, GPU, or even distributed.\n",
        "\n",
        "When compiling, you must specify some additional properties required when training the network. Remember training a network means finding the best set of weights to map inputs to outputs in your dataset.\n",
        "\n",
        "You must specify the **loss** function to use to evaluate a set of weights, the **optimizer** used to search through different weights for the network, and any optional metrics you want to collect and report during training.\n"
      ],
      "metadata": {
        "id": "h8Ht7ryX1rQ2"
      }
    },
    {
      "cell_type": "code",
      "source": [
        "# compile the keras model\n",
        "model.compile(loss='binary_crossentropy', optimizer='adam', metrics=['accuracy'])"
      ],
      "metadata": {
        "id": "MXOuvuqm2TBn"
      },
      "execution_count": null,
      "outputs": []
    },
    {
      "cell_type": "markdown",
      "source": [
        "This code compiles a `Keras` model that has already been defined.\n",
        "\n",
        "The `compile` method is called on the `model` object, and it takes three arguments:\n",
        "\n",
        "* `loss`: the loss function to be used during training. In this case, `binary_crossentropy` is used, which is a common loss function for binary classification problems.\n",
        "* `optimizer`: the optimization algorithm to be used during training. In this case, the `Adam` optimizer is used, which is a popular optimization algorithm in deep learning.\n",
        "* `metrics`: a list of metrics to be used to evaluate the performance of the model during training and testing. In this case, the `accuracy` metric is used, which is a common metric for classification problems that measures the percentage of correctly classified instances."
      ],
      "metadata": {
        "id": "fsT2xEzF2hzl"
      }
    },
    {
      "cell_type": "markdown",
      "source": [
        "# 4. Fit Keras Model\n",
        "\n",
        "You have defined your model and compiled it to get ready for efficient computation.\n",
        "\n",
        "Now it is time to execute the model on some data.\n",
        "\n",
        "You can train or fit your model on your loaded data by calling the `fit()` function on the model.\n",
        "\n",
        "Training occurs over **epochs**, and each **epoch** is split into **batches**.\n",
        "\n",
        "* **Epoch**: One pass through all of the rows in the training dataset\n",
        "* **Batch**: One or more samples considered by the model within an epoch before weights are updated\n",
        "\n",
        "One epoch comprises one or more batches, based on the chosen batch size, and the model is fit for many epochs.\n",
        "\n",
        "The training process will run for a fixed number of epochs (iterations) through the dataset that you must specify using the `epochs` argument. You must also set the number of dataset rows that are considered before the model weights are updated within each epoch, called the batch size, and set using the `batch_size` argument.\n",
        "\n",
        "This problem will run for a small number of epochs (150) and use a relatively small batch size of 10.\n",
        "\n",
        "These configurations can be chosen experimentally by trial and error. You want to train the model enough so that it learns a good (or good enough) mapping of rows of input data to the output classification. The model will always have some error, but the amount of error will level out after some point for a given model configuration. This is called **model convergence**."
      ],
      "metadata": {
        "id": "VSNjixUm25NK"
      }
    },
    {
      "cell_type": "code",
      "source": [
        "# fit the keras model on the dataset\n",
        "model.fit(X, y, epochs=150, batch_size=10)"
      ],
      "metadata": {
        "id": "tg14X-Hh3v5L"
      },
      "execution_count": null,
      "outputs": []
    },
    {
      "cell_type": "markdown",
      "source": [
        "This code fits a Keras model to the input data (`X`) and target labels (`y`) using the fit method.\n",
        "\n",
        "The `fit` method takes several arguments:\n",
        "\n",
        "* `X`: the input data (predictor variables) to be used for training the model.\n",
        "* `y`: the target labels (binary values indicating the presence or absence of diabetes) for the input data.\n",
        "* `epochs`: the number of times the entire dataset is processed during training. In this case, the model will be trained for 150 epochs.\n",
        "* `batch_size`: the number of samples processed at once during training. In this case, 10 samples will be processed at once.\n",
        "\n",
        "During training, the model will make predictions on the input data and compare these predictions to the true target labels using the loss function specified during model compilation (`binary_crossentropy`). The optimizer specified during model compilation (`adam`) will then adjust the weights of the model in an attempt to minimize this loss. After each epoch, the performance of the model on the training set will be evaluated using the metrics specified during model compilation (`accuracy` in this case).\n",
        "\n",
        "By calling the `fit` method, we are training the model on our dataset and optimizing its parameters to make accurate predictions on new data."
      ],
      "metadata": {
        "id": "KnMZHqWx4FS0"
      }
    },
    {
      "cell_type": "markdown",
      "source": [
        "# 5. Evaluate Keras Model\n",
        "\n",
        "You have trained our neural network on the entire dataset, and you can evaluate the performance of the network on the same dataset.\n",
        "\n",
        "This will only give you an idea of how well you have modeled the dataset (e.g., train accuracy), but no idea of how well the algorithm might perform on new data. This was done for simplicity, but ideally, you could separate your data into train and test datasets for training and evaluation of your model."
      ],
      "metadata": {
        "id": "Q26N4vBb4fRX"
      }
    },
    {
      "cell_type": "code",
      "source": [
        "# evaluate the keras model\n",
        "_, accuracy = model.evaluate(X, y)\n",
        "print('Accuracy: %.2f' % (accuracy*100))"
      ],
      "metadata": {
        "id": "7OlB5lsr4yQZ"
      },
      "execution_count": null,
      "outputs": []
    },
    {
      "cell_type": "markdown",
      "source": [
        "This code evaluates the performance of a trained `Keras` model on a dataset using the `evaluate` method.\n",
        "\n",
        "The `evaluate` method takes the same arguments as the fit method:\n",
        "\n",
        "* `X`: the input data (predictor variables) to be used for evaluating the model's performance.\n",
        "* `y`: the target labels (binary values indicating the presence or absence of diabetes) for the input data.\n",
        "\n",
        "When we call `model.evaluate(X, y)`, the model makes predictions on the input data `X`, and compares these predictions to the true target labels `y`. The model's performance on the input data is then evaluated using the loss function and metrics specified during model compilation (`binary_crossentropy` and `accuracy` in this case).\n",
        "\n",
        "The `evaluate` method returns a list containing the model's loss value and the values of the metrics specified during compilation. In this case, we are only interested in the accuracy metric, which is why we use the `_` notation to ignore the loss value, and store only the accuracy value in the accuracy variable. Finally, we print the `accuracy` value as a percentage using the print function."
      ],
      "metadata": {
        "id": "gfFR_69P5Uoa"
      }
    },
    {
      "cell_type": "markdown",
      "source": [
        "# Make Predictions"
      ],
      "metadata": {
        "id": "q5WJBBbD5zFs"
      }
    },
    {
      "cell_type": "code",
      "source": [
        "# make probability predictions with the model\n",
        "predictions = model.predict(X)\n",
        "# round predictions\n",
        "rounded = [round(x[0]) for x in predictions]"
      ],
      "metadata": {
        "id": "B9Glp7g057ug"
      },
      "execution_count": null,
      "outputs": []
    },
    {
      "cell_type": "markdown",
      "source": [
        "This code uses a trained `Keras` model to make predictions on a dataset using the predict method.\n",
        "\n",
        "The `predict` method takes the input data (`X`) as its argument, and returns the predicted target values (in this case, the probability of each sample being classified as positive for diabetes).\n",
        "\n",
        "After obtaining the predicted probabilities using the `predict` method, the code rounds the probabilities to the nearest integer using the built-in `round` function. The resulting list of integers (`rounded`) can be interpreted as the model's binary predictions on the input data. A value of 0 indicates that the model predicts the absence of diabetes, while a value of 1 indicates that the model predicts the presence of diabetes."
      ],
      "metadata": {
        "id": "sJMNLv7X6KYp"
      }
    }
  ]
}